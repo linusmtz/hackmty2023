{
  "nbformat": 4,
  "nbformat_minor": 0,
  "metadata": {
    "colab": {
      "provenance": [],
      "authorship_tag": "ABX9TyN6I8tdJRmAkjOEAUH5yVxW",
      "include_colab_link": true
    },
    "kernelspec": {
      "name": "python3",
      "display_name": "Python 3"
    },
    "language_info": {
      "name": "python"
    }
  },
  "cells": [
    {
      "cell_type": "markdown",
      "metadata": {
        "id": "view-in-github",
        "colab_type": "text"
      },
      "source": [
        "<a href=\"https://colab.research.google.com/github/linusmtz/hackmty2023/blob/main/Clasificaci%C3%B3n_de_clientes.ipynb\" target=\"_parent\"><img src=\"https://colab.research.google.com/assets/colab-badge.svg\" alt=\"Open In Colab\"/></a>"
      ]
    },
    {
      "cell_type": "markdown",
      "source": [
        "# Clasificación de Clientes basados en sus datos\n",
        "El siguiente notebook describe el proceso llevado acabo por el equipo Binary Reapers (Mesa 2-D) durante el HackMTY para la creación de un sistema de Inteligencia Artificial por medio de Redes Neuronales Supervisadas para la clasificación de Clientes en las diferentes categorías de importancia de un banco, con el fín de poder asesorarlos financieramente de manera adecuada dependiendo de su situación actual."
      ],
      "metadata": {
        "id": "SXA7fGhzup_B"
      }
    },
    {
      "cell_type": "markdown",
      "source": [
        "Para esto utilizaremos como base el conjunto de datos sobre clientes de datos proveniente del Repositorio de Machine Learning de la UCI: https://archive.ics.uci.edu/dataset/222/bank+marketing\n",
        "\n",
        "Primero importaremos la librería de Datasets de la UCI dentro de nuestro modelo."
      ],
      "metadata": {
        "id": "UaDhmEY8xNS1"
      }
    },
    {
      "cell_type": "code",
      "source": [
        "pip install ucimlrepo"
      ],
      "metadata": {
        "colab": {
          "base_uri": "https://localhost:8080/"
        },
        "id": "8L3mPZmZxsJK",
        "outputId": "af7121b2-ee74-4035-b2c3-cdde7acb9994"
      },
      "execution_count": 1,
      "outputs": [
        {
          "output_type": "stream",
          "name": "stdout",
          "text": [
            "Collecting ucimlrepo\n",
            "  Downloading ucimlrepo-0.0.1-py3-none-any.whl (7.0 kB)\n",
            "Installing collected packages: ucimlrepo\n",
            "Successfully installed ucimlrepo-0.0.1\n"
          ]
        }
      ]
    },
    {
      "cell_type": "markdown",
      "source": [
        "Primeramente, utilizaremos como Dataset la información de 45,211 clientes de bancos, esta información incluye las siguientes campos de datos:\n",
        "\n"
      ],
      "metadata": {
        "id": "Ce0t4rDMv2Gn"
      }
    },
    {
      "cell_type": "code",
      "execution_count": null,
      "metadata": {
        "id": "rHInsiX6uoQA"
      },
      "outputs": [],
      "source": []
    }
  ]
}